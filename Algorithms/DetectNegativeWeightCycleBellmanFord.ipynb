{
 "cells": [
  {
   "cell_type": "code",
   "execution_count": 5,
   "metadata": {},
   "outputs": [],
   "source": [
    "def bellman_ford(N, edges, src):\n",
    "    inf = float('inf')\n",
    "    dist = [inf] * N\n",
    "    dist[src] = 0\n",
    "\n",
    "    # Relax all edges N-1 times\n",
    "    for _ in range(N-1):\n",
    "        for u, v, wt in edges:\n",
    "            if dist[u] != inf and dist[u] + wt < dist[v]:\n",
    "                dist[v] = dist[u] + wt\n",
    "        # Print distances after each iteration\n",
    "        print(f\"Iteration {_+1}\")\n",
    "        print(\" \".join(map(str, dist)))\n",
    "\n",
    "    # Check for negative weight cycle\n",
    "    for u, v, wt in edges:\n",
    "        if dist[u] != inf and dist[u] + wt < dist[v]:\n",
    "            print(-1)\n",
    "            return\n",
    "\n",
    "    for d in dist:\n",
    "        print(d, end=\" \")\n",
    "    print()"
   ]
  },
  {
   "cell_type": "code",
   "execution_count": 6,
   "metadata": {},
   "outputs": [
    {
     "name": "stdout",
     "output_type": "stream",
     "text": [
      "Iteration 1\n",
      "0 5 3 3 6 2\n",
      "Iteration 2\n",
      "0 5 3 3 1 2\n",
      "Iteration 3\n",
      "0 5 3 3 1 2\n",
      "Iteration 4\n",
      "0 5 3 3 1 2\n",
      "Iteration 5\n",
      "0 5 3 3 1 2\n",
      "0 5 3 3 1 2 \n"
     ]
    }
   ],
   "source": [
    "N = 6\n",
    "edges = [\n",
    "        (0, 1, 5),\n",
    "        (1, 2, -2),\n",
    "        (1, 5, -3),\n",
    "        (2, 4, 3),\n",
    "        (3, 2, 6),\n",
    "        (3, 4, -2),\n",
    "        (5, 3, 1)\n",
    "    ]\n",
    "src = 0\n",
    "bellman_ford(N, edges, src)\n"
   ]
  }
 ],
 "metadata": {
  "kernelspec": {
   "display_name": "Python 3",
   "language": "python",
   "name": "python3"
  },
  "language_info": {
   "codemirror_mode": {
    "name": "ipython",
    "version": 3
   },
   "file_extension": ".py",
   "mimetype": "text/x-python",
   "name": "python",
   "nbconvert_exporter": "python",
   "pygments_lexer": "ipython3",
   "version": "3.12.3"
  }
 },
 "nbformat": 4,
 "nbformat_minor": 2
}
