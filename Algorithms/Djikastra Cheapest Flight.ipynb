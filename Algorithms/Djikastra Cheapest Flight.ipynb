{
 "cells": [
  {
   "cell_type": "code",
   "execution_count": 3,
   "metadata": {},
   "outputs": [],
   "source": [
    "from collections import defaultdict\n",
    "from heapq import heappop, heappush\n",
    "\n",
    "class Solution:\n",
    "    def find_cheapest_price(self, n, flights, src, dst, k):\n",
    "        # Build adjacency list for the graph\n",
    "        graph = defaultdict(list)\n",
    "        for u, v, price in flights:\n",
    "            graph[u].append((v, price))  # Store (destination, price) for each city\n",
    "\n",
    "        # Priority queue for Dijkstra with stops: (cost, city, stops)\n",
    "        pq = [(0, src, 0)]  # Start at source with 0 cost and 0 stops\n",
    "        min_cost = defaultdict(lambda: float('inf'))\n",
    "        min_cost[(src, 0)] = 0  # Base case: 0 cost to reach source with 0 stops\n",
    "\n",
    "        while pq:\n",
    "            cost, current_city, stops = heappop(pq)\n",
    "            if current_city == dst:\n",
    "                return cost  # Found destination\n",
    "\n",
    "            if stops <= k:  # Explore further only if within stop limit\n",
    "                for neighbor, price in graph[current_city]:\n",
    "                    new_cost = cost + price\n",
    "                    # Update if this path is cheaper for the given stops\n",
    "                    if new_cost < min_cost[(neighbor, stops + 1)]: \n",
    "                        min_cost[(neighbor, stops + 1)] = new_cost\n",
    "                        heappush(pq, (new_cost, neighbor, stops + 1))\n",
    "\n",
    "        return -1  # No path found within the allowed stops\n"
   ]
  },
  {
   "cell_type": "code",
   "execution_count": 6,
   "metadata": {},
   "outputs": [
    {
     "data": {
      "text/plain": [
       "600"
      ]
     },
     "execution_count": 6,
     "metadata": {},
     "output_type": "execute_result"
    }
   ],
   "source": [
    "sol = Solution()\n",
    "\n",
    "# Sample Input 1\n",
    "n = 4\n",
    "flights = [\n",
    "    (0, 1, 100),\n",
    "    (1, 2, 100),\n",
    "    (2, 3, 100),\n",
    "    (0, 2, 500)\n",
    "]\n",
    "src = 0\n",
    "dst = 3\n",
    "k = 1\n",
    "sol.find_cheapest_price(n, flights, src, dst, k) # Output: 500"
   ]
  }
 ],
 "metadata": {
  "kernelspec": {
   "display_name": "Python 3",
   "language": "python",
   "name": "python3"
  },
  "language_info": {
   "codemirror_mode": {
    "name": "ipython",
    "version": 3
   },
   "file_extension": ".py",
   "mimetype": "text/x-python",
   "name": "python",
   "nbconvert_exporter": "python",
   "pygments_lexer": "ipython3",
   "version": "3.12.3"
  }
 },
 "nbformat": 4,
 "nbformat_minor": 2
}
