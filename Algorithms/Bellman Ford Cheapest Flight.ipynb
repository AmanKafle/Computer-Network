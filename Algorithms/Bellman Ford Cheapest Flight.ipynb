{
 "cells": [
  {
   "cell_type": "code",
   "execution_count": 1,
   "metadata": {},
   "outputs": [],
   "source": [
    "def find_cheapest_price(n, flights, source, destination, max_stops):\n",
    "    inf = float('inf')\n",
    "    # Step 1: Initialize distances array with infinity and set source distance to 0\n",
    "    distances = [inf] * n\n",
    "    distances[source] = 0\n",
    "\n",
    "    # Step 2: Relax edges for max_stops + 1 times\n",
    "    for _ in range(max_stops + 1):\n",
    "        updated_distances = distances[:]\n",
    "        for u, v, w in flights:\n",
    "            if distances[u] != inf and distances[u] + w < updated_distances[v]:\n",
    "                updated_distances[v] = distances[u] + w\n",
    "        distances = updated_distances\n",
    "\n",
    "    # Step 3: Return the shortest distance to destination, or -1 if not reachable\n",
    "    return distances[destination] if distances[destination] != inf else -1\n",
    "\n"
   ]
  },
  {
   "cell_type": "code",
   "execution_count": 4,
   "metadata": {},
   "outputs": [
    {
     "data": {
      "text/plain": [
       "600"
      ]
     },
     "execution_count": 4,
     "metadata": {},
     "output_type": "execute_result"
    }
   ],
   "source": [
    "n = 4\n",
    "flights = [\n",
    "    (0, 1, 100),\n",
    "    (1, 2, 100),\n",
    "    (2, 3, 100),\n",
    "    (0, 2, 500)\n",
    "]\n",
    "source = 0\n",
    "destination = 3\n",
    "max_stops = 1\n",
    "find_cheapest_price(n, flights, source, destination, max_stops)\n",
    "\n"
   ]
  }
 ],
 "metadata": {
  "kernelspec": {
   "display_name": "Python 3",
   "language": "python",
   "name": "python3"
  },
  "language_info": {
   "codemirror_mode": {
    "name": "ipython",
    "version": 3
   },
   "file_extension": ".py",
   "mimetype": "text/x-python",
   "name": "python",
   "nbconvert_exporter": "python",
   "pygments_lexer": "ipython3",
   "version": "3.12.3"
  }
 },
 "nbformat": 4,
 "nbformat_minor": 2
}
