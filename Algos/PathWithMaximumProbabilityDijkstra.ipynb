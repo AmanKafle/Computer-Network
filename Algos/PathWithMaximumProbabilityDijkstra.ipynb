{
 "cells": [
  {
   "cell_type": "code",
   "execution_count": 5,
   "metadata": {},
   "outputs": [],
   "source": [
    "import heapq\n",
    "from typing import List, Tuple\n",
    "\n",
    "def max_probability(n: int, edges: List[Tuple[int, int, float]], start: int, end: int) -> float:\n",
    "    # Step 1: Initialize adjacency list for the graph\n",
    "    graph = [[] for _ in range(n)]\n",
    "    for u, v, prob in edges:\n",
    "        graph[u].append((v, prob))\n",
    "        graph[v].append((u, prob))  # Assuming undirected graph\n",
    "\n",
    "    # Step 2: Priority queue for Dijkstra's algorithm, storing tuples of (-probability, node)\n",
    "    pq = [(-1.0, start)]  # Start with maximum probability at start node\n",
    "    heapq.heapify(pq)\n",
    "\n",
    "    # Step 3: Distance array to store maximum probability to reach each node\n",
    "    dist = [0.0] * n\n",
    "    dist[start] = 1.0  # Probability of starting node is 1.0\n",
    "\n",
    "    # Step 4: Dijkstra's algorithm\n",
    "    while pq:\n",
    "        max_prob, node = heapq.heappop(pq)\n",
    "\n",
    "        # Convert max_prob back to positive\n",
    "        max_prob = -max_prob\n",
    "\n",
    "        # If we reached the end node with maximum probability, return the probability\n",
    "        if node == end:\n",
    "            return max_prob\n",
    "\n",
    "        # Explore neighbors\n",
    "        for neighbor, probability in graph[node]:\n",
    "            new_prob = max_prob * probability\n",
    "\n",
    "            # If we found a higher probability to reach neighbor, update and push to pq\n",
    "            if new_prob > dist[neighbor]:\n",
    "                dist[neighbor] = new_prob\n",
    "                heapq.heappush(pq, (-new_prob, neighbor))\n",
    "\n",
    "    # Step 5: If end node cannot be reached\n",
    "    return 0.0\n",
    "\n"
   ]
  },
  {
   "cell_type": "code",
   "execution_count": 3,
   "metadata": {},
   "outputs": [
    {
     "name": "stdout",
     "output_type": "stream",
     "text": [
      "0.25\n"
     ]
    }
   ],
   "source": [
    "\n",
    "n = 3\n",
    "edges = [(0, 1, 0.5), (1, 2, 0.5), (0, 2, 0.2)]\n",
    "start = 0\n",
    "end = 2\n",
    "print(max_probability(n, edges, start, end))  # Output: 0.5\n"
   ]
  }
 ],
 "metadata": {
  "kernelspec": {
   "display_name": "Python 3",
   "language": "python",
   "name": "python3"
  },
  "language_info": {
   "codemirror_mode": {
    "name": "ipython",
    "version": 3
   },
   "file_extension": ".py",
   "mimetype": "text/x-python",
   "name": "python",
   "nbconvert_exporter": "python",
   "pygments_lexer": "ipython3",
   "version": "3.12.3"
  }
 },
 "nbformat": 4,
 "nbformat_minor": 2
}
